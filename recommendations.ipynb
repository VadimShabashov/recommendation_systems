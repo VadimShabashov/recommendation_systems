{
 "cells": [
  {
   "cell_type": "markdown",
   "metadata": {},
   "source": [
    "Здравствуйте! Сейчас сделаю небольшое введение о том, какие подходы бывают к решению данной задачи, а также о способе который я выбрал.\n",
    "\n",
    "Для создания рекомендационных систем используются алгоритмы Collaborative Filtering, которые разделяются на 2 большие группы: User-Based и Item-Based.\n",
    "\n",
    "В первой: алгоритм находит похожих на тестового пользователей, основываясь на их отзывах. Похожесть определяется тем, что тестовый пользователь оценивает одинаково с похожими пользователями большинство вещей (не уточняли в задаче, что именно считаем за items, поэтому называю вещами). Затем, на основании того, что похожие пользователи высоко оценили, для тестового пользователя делается рекомендация (важно проверить только, что он еще не использвал эту вещь сам, то есть не ставил ей рейтинг).\n",
    "\n",
    "Второй способ: искать не похожих пользователей, а похожие вещи; например, если сразу много людей одинаково хорошо оценили 2 вещи, то они будут считаться похожими. Далее для тестового пользователя смотрят на вещи, которые он высоко оценил, находят для них похожие и рекомендуют.\n",
    "\n",
    "Я избрал для решения задачи первый путь, потому что для него можно найти больше информации в интернете (а сам я столкнулся с подобной задачей впервые). По этой же причине, что опыта совсем не было, прочел несколько статей, где как раз и наткнулся на пример решения похожей задачи. Я разобрался, как у них все работает и применил их решение в нашей ситуации.\n",
    "\n",
    "Ссылка на ресурсы, которыми пользовался:\n",
    "\n",
    "Основная идея: https://towardsdatascience.com/build-a-user-based-collaborative-filtering-recommendation-engine-for-anime-92d35921f304\n",
    "\n",
    "https://realpython.com/build-recommendation-engine-collaborative-filtering/\n",
    "\n",
    "Небольшой обзор: https://www.coursera.org/lecture/machine-learning-with-python/collaborative-filtering-4y9I1"
   ]
  },
  {
   "cell_type": "code",
   "execution_count": 1,
   "metadata": {},
   "outputs": [],
   "source": [
    "import pandas as pd\n",
    "import numpy as np\n",
    "from tqdm import tqdm"
   ]
  },
  {
   "cell_type": "code",
   "execution_count": 2,
   "metadata": {},
   "outputs": [],
   "source": [
    "data = pd.read_csv('/home/cats/Files/Homework/НИР/JB-2021-Autumn-Internship-Task-master/data/dataset.csv')\n",
    "data = data.sort_values(['timestamp'])"
   ]
  },
  {
   "cell_type": "code",
   "execution_count": 3,
   "metadata": {},
   "outputs": [],
   "source": [
    "train = data[:80000]\n",
    "test = data[80000:]"
   ]
  },
  {
   "cell_type": "code",
   "execution_count": 4,
   "metadata": {},
   "outputs": [
    {
     "data": {
      "text/html": [
       "<div>\n",
       "<style scoped>\n",
       "    .dataframe tbody tr th:only-of-type {\n",
       "        vertical-align: middle;\n",
       "    }\n",
       "\n",
       "    .dataframe tbody tr th {\n",
       "        vertical-align: top;\n",
       "    }\n",
       "\n",
       "    .dataframe thead th {\n",
       "        text-align: right;\n",
       "    }\n",
       "</style>\n",
       "<table border=\"1\" class=\"dataframe\">\n",
       "  <thead>\n",
       "    <tr style=\"text-align: right;\">\n",
       "      <th></th>\n",
       "      <th>user_id</th>\n",
       "      <th>item_id</th>\n",
       "      <th>rating</th>\n",
       "      <th>timestamp</th>\n",
       "    </tr>\n",
       "  </thead>\n",
       "  <tbody>\n",
       "    <tr>\n",
       "      <th>217</th>\n",
       "      <td>259</td>\n",
       "      <td>255</td>\n",
       "      <td>4</td>\n",
       "      <td>874724710</td>\n",
       "    </tr>\n",
       "    <tr>\n",
       "      <th>83968</th>\n",
       "      <td>259</td>\n",
       "      <td>286</td>\n",
       "      <td>4</td>\n",
       "      <td>874724727</td>\n",
       "    </tr>\n",
       "    <tr>\n",
       "      <th>43030</th>\n",
       "      <td>259</td>\n",
       "      <td>298</td>\n",
       "      <td>4</td>\n",
       "      <td>874724754</td>\n",
       "    </tr>\n",
       "    <tr>\n",
       "      <th>21399</th>\n",
       "      <td>259</td>\n",
       "      <td>185</td>\n",
       "      <td>4</td>\n",
       "      <td>874724781</td>\n",
       "    </tr>\n",
       "    <tr>\n",
       "      <th>82658</th>\n",
       "      <td>259</td>\n",
       "      <td>173</td>\n",
       "      <td>4</td>\n",
       "      <td>874724843</td>\n",
       "    </tr>\n",
       "  </tbody>\n",
       "</table>\n",
       "</div>"
      ],
      "text/plain": [
       "       user_id  item_id  rating  timestamp\n",
       "217        259      255       4  874724710\n",
       "83968      259      286       4  874724727\n",
       "43030      259      298       4  874724754\n",
       "21399      259      185       4  874724781\n",
       "82658      259      173       4  874724843"
      ]
     },
     "execution_count": 4,
     "metadata": {},
     "output_type": "execute_result"
    }
   ],
   "source": [
    "train.head()"
   ]
  },
  {
   "cell_type": "code",
   "execution_count": 5,
   "metadata": {},
   "outputs": [
    {
     "data": {
      "text/html": [
       "<div>\n",
       "<style scoped>\n",
       "    .dataframe tbody tr th:only-of-type {\n",
       "        vertical-align: middle;\n",
       "    }\n",
       "\n",
       "    .dataframe tbody tr th {\n",
       "        vertical-align: top;\n",
       "    }\n",
       "\n",
       "    .dataframe thead th {\n",
       "        text-align: right;\n",
       "    }\n",
       "</style>\n",
       "<table border=\"1\" class=\"dataframe\">\n",
       "  <thead>\n",
       "    <tr style=\"text-align: right;\">\n",
       "      <th></th>\n",
       "      <th>user_id</th>\n",
       "      <th>item_id</th>\n",
       "      <th>rating</th>\n",
       "      <th>timestamp</th>\n",
       "    </tr>\n",
       "  </thead>\n",
       "  <tbody>\n",
       "    <tr>\n",
       "      <th>1346</th>\n",
       "      <td>3</td>\n",
       "      <td>245</td>\n",
       "      <td>1</td>\n",
       "      <td>889237247</td>\n",
       "    </tr>\n",
       "    <tr>\n",
       "      <th>27978</th>\n",
       "      <td>3</td>\n",
       "      <td>355</td>\n",
       "      <td>3</td>\n",
       "      <td>889237247</td>\n",
       "    </tr>\n",
       "    <tr>\n",
       "      <th>1260</th>\n",
       "      <td>3</td>\n",
       "      <td>335</td>\n",
       "      <td>1</td>\n",
       "      <td>889237269</td>\n",
       "    </tr>\n",
       "    <tr>\n",
       "      <th>38673</th>\n",
       "      <td>3</td>\n",
       "      <td>322</td>\n",
       "      <td>3</td>\n",
       "      <td>889237269</td>\n",
       "    </tr>\n",
       "    <tr>\n",
       "      <th>3761</th>\n",
       "      <td>3</td>\n",
       "      <td>323</td>\n",
       "      <td>2</td>\n",
       "      <td>889237269</td>\n",
       "    </tr>\n",
       "  </tbody>\n",
       "</table>\n",
       "</div>"
      ],
      "text/plain": [
       "       user_id  item_id  rating  timestamp\n",
       "1346         3      245       1  889237247\n",
       "27978        3      355       3  889237247\n",
       "1260         3      335       1  889237269\n",
       "38673        3      322       3  889237269\n",
       "3761         3      323       2  889237269"
      ]
     },
     "execution_count": 5,
     "metadata": {},
     "output_type": "execute_result"
    }
   ],
   "source": [
    "test.head()"
   ]
  },
  {
   "cell_type": "markdown",
   "metadata": {},
   "source": [
    "Для решения потребуются дополнительные библиотеки. Одна из них для нахождения \"похожести\", а вторая для сортировки:"
   ]
  },
  {
   "cell_type": "code",
   "execution_count": 6,
   "metadata": {},
   "outputs": [],
   "source": [
    "# for cosine_similarity\n",
    "from sklearn.metrics.pairwise import cosine_similarity\n",
    "\n",
    "# For sorting using key=operator.itemgetter\n",
    "import operator"
   ]
  },
  {
   "cell_type": "markdown",
   "metadata": {},
   "source": [
    "Далее заведем функцию, которая определяет по пользователю рекомендации для него. Она принимает id пользователя и число рекомендаций, которое надо вывести."
   ]
  },
  {
   "cell_type": "code",
   "execution_count": 81,
   "metadata": {},
   "outputs": [],
   "source": [
    "def recommend(user_id, k):\n",
    "    # Создадим матрицу со строками user_id и столбцами item_id. Это тоже объект DataFrame.\n",
    "    # Она поможет в дальнейшем понимать, кто из пользователей похож.\n",
    "    rating_matrix = train.pivot_table(index='user_id', columns='item_id', values='rating')\n",
    "    # Заполним нулями элементы, которые не заданы (NaN). Таких элементов в матрице много, т.к.\n",
    "    # каждый пользователь выставлял рейтинг только ограниченному малому числу вещей.\n",
    "    rating_matrix = rating_matrix.fillna(0)\n",
    "    \n",
    "    # Выведем, чтобы посмотреть\n",
    "    # print(rating_matrix.head())\n",
    "    \n",
    "    # Строка пользователя, для которого делаем рекомендации (назовем его тестовым). \n",
    "    # Здесь отображено, каким вещам он уже постаивл рейтинг и каким нет\n",
    "    user = rating_matrix[rating_matrix.index == user_id]\n",
    "    \n",
    "    # Холодный старт - нет информации о тестовом пользователе. Выведем наиболее часто встречающиеся.\n",
    "    if user.shape[0] == 0:\n",
    "        return train['item_id'].value_counts().index[:k].tolist()\n",
    "\n",
    "    # Строки остальных пользователей\n",
    "    other_users = rating_matrix[rating_matrix.index != user_id]\n",
    "\n",
    "    # Используя библиотеку, находим сходство между данным пользователем и остальными с помощью cosine similarity.\n",
    "    similarities = cosine_similarity(user, other_users)[0].tolist()\n",
    "\n",
    "    # Список всех пользователей, кроме данного в виде списка\n",
    "    indices = other_users.index.tolist()\n",
    "\n",
    "    # Создаем пары: пользователь и число сходства с тестовым пользователем.\n",
    "    index_similarity = dict(zip(indices, similarities))\n",
    "\n",
    "    # Сортируем по сходству. Пользователи распологаются по убыванию сходства с тестовым.\n",
    "    index_similarity_sorted = sorted(index_similarity.items(), key=operator.itemgetter(1))\n",
    "    index_similarity_sorted.reverse()\n",
    "    \n",
    "    # Берем первых 3-х пользователей (они имеют наибольшее сходство с данным в задаче).\n",
    "    # Число выбираемых похожих пользователей можно менять\n",
    "    top_similar_users_similarities = index_similarity_sorted[:3]\n",
    "    similar_users_indices = [u[0] for u in top_similar_users_similarities]\n",
    "    \n",
    "    # На данный момент имеем список с id пользователей, которые наиболее похожи. Далее идея в следующем:\n",
    "    # 1) Вычислить средний рейтинг среди похожих пользователей, на вещи, которые они использовали.\n",
    "    # 2) Найти какие вещи не использовал (нет рейтинга) тестовый пользователь и посмотреть для них средний рейтинг\n",
    "    # похожих пользователей. Вещи с максимальным рейтингом порекомендовать.\n",
    "    \n",
    "    \n",
    "    # Получаем строки матрицы рейтингов для одинаковых пользователей\n",
    "    similar_users = rating_matrix[rating_matrix.index.isin(similar_users_indices)]\n",
    "    # Посчитаем рейтинг, который похожие пользователи дали для вещей в среднем\n",
    "    similar_users = similar_users.mean(axis=0)\n",
    "    # Конвертируем в элемент dataframe для удобства\n",
    "    similar_users_df = pd.DataFrame(similar_users, columns=['mean'])\n",
    "    \n",
    "    \n",
    "    # Транспонируем строку пользователя, т.к. это удобнее для дальнейшей работы (у похожих пользователей рейтинги\n",
    "    # для вещей записаны вертикально)\n",
    "    user_transposed = user.transpose()\n",
    "    # Для красоты сменим название с имени тестового пользователя на 'rating'\n",
    "    user_transposed.columns = ['rating']\n",
    "    # Удаляем у тестового пользователя в столбце все значения ненулевого рейтинга\n",
    "    # (оставляем те, которыми не пользовался)\n",
    "    user_transposed = user_transposed[user_transposed['rating'] == 0]\n",
    "    # Конвертируем таблицу из нулевых рейтингов и вещей в список вещей.\n",
    "    # Там все, чем тестовый пользователь не пользовался\n",
    "    unused_items = user_transposed.index.tolist()\n",
    "    \n",
    "    # В таблице рейтингов похожих пользователей отбираем строки только с теми вещами,\n",
    "    # которыми тестовый не пользовался\n",
    "    similar_users_df_filtered = similar_users_df[similar_users_df.index.isin(unused_items)]\n",
    "    # Сортируем таблицу по рейтингу (сверху наибольшее значение для среднего рейтинга похожих пользователей)\n",
    "    similar_users_df_ordered = similar_users_df.sort_values(by=['mean'], ascending=False)\n",
    "    # Берем первые 5 строк таблицы. Индексы - названия вещей.\n",
    "    # Эти вещи имеют наибольший рейтинг у похожих пользователей и их еще не использовал тестовый пользователь.\n",
    "    top_n_items = similar_users_df_ordered.index[:k].tolist()\n",
    "    \n",
    "\n",
    "    return top_n_items"
   ]
  },
  {
   "cell_type": "markdown",
   "metadata": {},
   "source": [
    "Заведем две функции. Первая будет считать, как много рекомендаций попало в массив вещей, которыми воспользовался тестовый пользователь. Вторая будет выводить число - отношение числа рекомендаций, которые получили правильно, к идеальному числу рекомендаций.\n",
    "\n",
    "Здесь, однако, есть небольшая загвоздка: функции проверки никак не учитывают то, что тестовый пользователь мог воспользоваться вещью, но поставить ей низкий рейтинг. Хорошо бы учитывать с большим весом угадывание рекомендации, которой тестовый пользователь поставил больший рейтинг."
   ]
  },
  {
   "cell_type": "code",
   "execution_count": 82,
   "metadata": {},
   "outputs": [],
   "source": [
    "def average_precision(actual, recommended, k=30):\n",
    "    ap_sum = 0\n",
    "    hits = 0\n",
    "    for i in range(k):\n",
    "        product_id = recommended[i] if i < len(recommended) else None\n",
    "        if product_id is not None and product_id in actual:\n",
    "            hits += 1\n",
    "            ap_sum += hits / (i + 1)\n",
    "    return ap_sum / k\n",
    "\n",
    "\n",
    "def normalized_average_precision(actual, recommended, k=30):\n",
    "    actual = set(actual)\n",
    "    if len(actual) == 0:\n",
    "        return 0.0\n",
    "\n",
    "    ap = average_precision(actual, recommended, k=k)\n",
    "    ap_ideal = average_precision(actual, list(actual)[:k], k=k)\n",
    "    return ap / ap_ideal"
   ]
  },
  {
   "cell_type": "code",
   "execution_count": 84,
   "metadata": {},
   "outputs": [
    {
     "name": "stderr",
     "output_type": "stream",
     "text": [
      "100%|█████████████████████████████████████████| 301/301 [00:30<00:00,  9.73it/s]\n"
     ]
    },
    {
     "data": {
      "text/plain": [
       "0.13205455894655577"
      ]
     },
     "execution_count": 84,
     "metadata": {},
     "output_type": "execute_result"
    }
   ],
   "source": [
    "scores = []\n",
    "for user in tqdm(test['user_id'].unique()):\n",
    "    # Для каждого пользователя из тестовой выборки смотрим набор вещей, для которых выставлен рейтинг\n",
    "    actual = list(test[test['user_id'] == user]['item_id'])\n",
    "    recommended = recommend(user, 50)\n",
    "    \n",
    "    scores.append(normalized_average_precision(actual, recommended, 50))\n",
    "\n",
    "np.mean(scores)"
   ]
  },
  {
   "cell_type": "code",
   "execution_count": null,
   "metadata": {},
   "outputs": [],
   "source": []
  }
 ],
 "metadata": {
  "kernelspec": {
   "display_name": "Python 3 (ipykernel)",
   "language": "python",
   "name": "python3"
  },
  "language_info": {
   "codemirror_mode": {
    "name": "ipython",
    "version": 3
   },
   "file_extension": ".py",
   "mimetype": "text/x-python",
   "name": "python",
   "nbconvert_exporter": "python",
   "pygments_lexer": "ipython3",
   "version": "3.8.10"
  }
 },
 "nbformat": 4,
 "nbformat_minor": 4
}
